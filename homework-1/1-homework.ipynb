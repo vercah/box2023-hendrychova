{
 "cells": [
  {
   "cell_type": "code",
   "execution_count": 5,
   "metadata": {},
   "outputs": [],
   "source": [
    "import readfa as rf"
   ]
  },
  {
   "cell_type": "code",
   "execution_count": 17,
   "metadata": {},
   "outputs": [
    {
     "name": "stdout",
     "output_type": "stream",
     "text": [
      "<generator object readfq at 0x000001BD9E9F0748>\n"
     ]
    }
   ],
   "source": [
    "print(rf.readfq(\"file1\"))\n"
   ]
  },
  {
   "cell_type": "code",
   "execution_count": 16,
   "metadata": {},
   "outputs": [],
   "source": [
    "for name, seq, qual in rf.readfq(\"file1\"):\n",
    "    print(seq)"
   ]
  },
  {
   "cell_type": "code",
   "execution_count": null,
   "metadata": {},
   "outputs": [],
   "source": [
    "# Read file1.fa, implement function for obtaining canonical k-mers (set),\n",
    "# calculate factor complexity for several selected k-mers: 2,3,4,10,14,18,22 – what behaviour do you observe?\n",
    "# Canonical k-mers - k-mers in which both the forward and reverse complement of a sequence are treated as identical\n",
    "def obtain_can_kmers()"
   ]
  }
 ],
 "metadata": {
  "kernelspec": {
   "display_name": "Python 3",
   "language": "python",
   "name": "python3"
  },
  "language_info": {
   "codemirror_mode": {
    "name": "ipython",
    "version": 3
   },
   "file_extension": ".py",
   "mimetype": "text/x-python",
   "name": "python",
   "nbconvert_exporter": "python",
   "pygments_lexer": "ipython3",
   "version": "3.7.6"
  }
 },
 "nbformat": 4,
 "nbformat_minor": 4
}
