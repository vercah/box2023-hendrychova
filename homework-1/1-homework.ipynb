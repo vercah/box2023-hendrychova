{
 "cells": [
  {
   "cell_type": "code",
   "execution_count": 47,
   "metadata": {},
   "outputs": [],
   "source": [
    "import readfa as rf\n",
    "import sys\n",
    "from pathlib import Path\n",
    "import matplotlib.pyplot as plt "
   ]
  },
  {
   "cell_type": "code",
   "execution_count": null,
   "metadata": {},
   "outputs": [],
   "source": [
    "# TODO:\n",
    "\n",
    "# Read file1.fa, implement function for obtaining canonical k-mers (set),\n",
    "# calculate factor complexity for several selected k-mers: 2,3,4,10,14,18,22 – what behaviour do you observe?\n",
    "# Canonical k-mers - k-mers in which both the forward and reverse complement of a sequence are treated as identical"
   ]
  },
  {
   "cell_type": "markdown",
   "metadata": {},
   "source": [
    "## 1. Factor complexity of first dataset for different k ##"
   ]
  },
  {
   "cell_type": "code",
   "execution_count": 25,
   "metadata": {},
   "outputs": [],
   "source": [
    "# auxiliary functions\n",
    "pairs = {\n",
    "  'A': 'T',\n",
    "  'C': 'G',\n",
    "  'G': 'C',\n",
    "  'T': 'A',\n",
    "}\n",
    "\n",
    "def are_palindromes(kmer1, kmer2, pairs):\n",
    "    if len(kmer1) != len(kmer2):\n",
    "        return False\n",
    "    for index, char in enumerate(kmer1):\n",
    "        if kmer2[len(kmer2)-1-index] != pairs[char]:\n",
    "            return False\n",
    "    return True\n",
    "\n",
    "def make_palindrome(kmer_input, pairs):\n",
    "    kmer = list(kmer_input)\n",
    "    for index, char in enumerate(kmer):\n",
    "        if char in pairs:\n",
    "            kmer[index] = pairs[char]\n",
    "    return str(kmer)"
   ]
  },
  {
   "cell_type": "code",
   "execution_count": 50,
   "metadata": {},
   "outputs": [
    {
     "name": "stdout",
     "output_type": "stream",
     "text": [
      "{1: 4, 2: 16, 3: 64, 4: 256, 5: 1024, 6: 4096, 7: 16384, 8: 65145, 9: 243337, 10: 704926, 11: 1347362, 12: 1816718, 13: 2029974, 14: 2105980, 15: 2131391, 16: 2140506, 17: 2144644, 18: 2147227, 19: 2149264, 20: 2151078, 21: 2152776, 22: 2154369, 23: 2155885, 24: 2157344, 25: 2158707, 26: 2160033, 27: 2161311, 28: 2162518, 29: 2163679, 30: 2164802, 31: 2165829}\n"
     ]
    }
   ],
   "source": [
    "# main function\n",
    "def obtain_canon_kmers(k, seq):\n",
    "    canon_kmers = set() # set to store k-mers\n",
    "    start = 0\n",
    "    while start + k < len(seq): # iterating through the sequence\n",
    "        if make_palindrome(seq[start:start + k], pairs) not in canon_kmers: # check for palindrome occurrence\n",
    "            canon_kmers.add(seq[start:start+k]) # method set.add() adds only if it's not present\n",
    "        start += 1\n",
    "    return canon_kmers\n",
    "\n",
    "fac_complexity = {}\n",
    "with open('file1.fa') as f:\n",
    "    for name, seq, _ in rf.readfq(f):\n",
    "        for k in range(1,32):\n",
    "            fac_complexity[k] = len(obtain_canon_kmers(k, seq))\n",
    "print(fac_complexity)"
   ]
  },
  {
   "cell_type": "code",
   "execution_count": 55,
   "metadata": {},
   "outputs": [
    {
     "name": "stdout",
     "output_type": "stream",
     "text": [
      "{1: 4, 2: 16, 3: 64, 4: 256, 5: 1024, 6: 4096, 7: 16384, 8: 65145, 9: 243337, 10: 704926, 11: 1347362, 12: 1816718, 13: 2029974, 14: 2105980, 15: 2131391, 16: 2140506, 17: 2144644, 18: 2147227, 19: 2149264, 20: 2151078, 21: 2152776, 22: 2154369, 23: 2155885, 24: 2157344, 25: 2158707, 26: 2160033, 27: 2161311, 28: 2162518, 29: 2163679, 30: 2164802, 31: 2165829}\n"
     ]
    },
    {
     "data": {
      "image/png": "[encoded data removed]",
      "text/plain": [
       "<Figure size 432x288 with 1 Axes>"
      ]
     },
     "metadata": {
      "needs_background": "light"
     },
     "output_type": "display_data"
    }
   ],
   "source": [
    "# visualize data\n",
    "fac_complexity = {1: 4, 2: 16, 3: 64, 4: 256, 5: 1024, 6: 4096, 7: 16384, 8: 65145, 9: 243337, 10: 704926, 11: 1347362, 12: 1816718, 13: 2029974, 14: 2105980, 15: 2131391, 16: 2140506, 17: 2144644, 18: 2147227, 19: 2149264, 20: 2151078, 21: 2152776, 22: 2154369, 23: 2155885, 24: 2157344, 25: 2158707, 26: 2160033, 27: 2161311, 28: 2162518, 29: 2163679, 30: 2164802, 31: 2165829}\n",
    "print(fac_complexity)\n",
    "x_values = list(fac_complexity.keys())\n",
    "y_values = list(fac_complexity.values())\n",
    "plt.plot(x_values, y_values, marker='o', linestyle='-')  # 'o' for markers, '-' for line\n",
    "plt.title(\"Factor complexity for k\")\n",
    "plt.xlabel(\"k\")\n",
    "plt.ylabel(\"canonical kmers\")\n",
    "\n",
    "# Display the plot\n",
    "plt.grid(True)  # Optional: Add grid lines\n",
    "plt.show()"
   ]
  },
  {
   "cell_type": "code",
   "execution_count": null,
   "metadata": {},
   "outputs": [],
   "source": []
  }
 ],
 "metadata": {
  "kernelspec": {
   "display_name": "Python 3",
   "language": "python",
   "name": "python3"
  },
  "language_info": {
   "codemirror_mode": {
    "name": "ipython",
    "version": 3
   },
   "file_extension": ".py",
   "mimetype": "text/x-python",
   "name": "python",
   "nbconvert_exporter": "python",
   "pygments_lexer": "ipython3",
   "version": "3.7.6"
  }
 },
 "nbformat": 4,
 "nbformat_minor": 4
}
