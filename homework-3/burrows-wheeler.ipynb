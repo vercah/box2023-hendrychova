{
 "cells": [
  {
   "cell_type": "code",
   "execution_count": 6,
   "metadata": {},
   "outputs": [],
   "source": [
    "import karkkainen_sanders as ks\n",
    "import readfa as rf"
   ]
  },
  {
   "cell_type": "code",
   "execution_count": 16,
   "metadata": {},
   "outputs": [],
   "source": [
    "def build_bwt(S,SA):\n",
    "    bwt = \"\"\n",
    "    for i in range(len(S)):\n",
    "        bwt += S[SA[i]-1]\n",
    "    return bwt"
   ]
  },
  {
   "cell_type": "code",
   "execution_count": 24,
   "metadata": {},
   "outputs": [],
   "source": [
    "def get_count(bwt):\n",
    "    count = {}\n",
    "    sorted_bwt = ''.join(sorted(bwt))\n",
    "    for char in (bwt): # to get all letters\n",
    "        if char not in count:\n",
    "            j = 0\n",
    "            while sorted_bwt[j] != char:\n",
    "                j+=1\n",
    "            count[char] = j\n",
    "    return count"
   ]
  },
  {
   "cell_type": "code",
   "execution_count": 37,
   "metadata": {},
   "outputs": [],
   "source": [
    "def get_rank(bwt):\n",
    "    rank = []\n",
    "    for i in range(len(bwt)):\n",
    "        number = 0\n",
    "        for j in range(i):\n",
    "            if bwt[j] == bwt[i]:\n",
    "                number +=1\n",
    "        rank.append(number)\n",
    "    return rank"
   ]
  },
  {
   "cell_type": "code",
   "execution_count": 60,
   "metadata": {},
   "outputs": [],
   "source": [
    "def bwt2seq(bwt,count,rank):\n",
    "    original_word = \"$\"\n",
    "    i = 0\n",
    "    for j in range(len(bwt)-1):\n",
    "        current_char = bwt[i]\n",
    "        original_word = current_char + original_word\n",
    "        i = count[current_char] + rank[i]\n",
    "    return original_word"
   ]
  },
  {
   "cell_type": "code",
   "execution_count": 56,
   "metadata": {},
   "outputs": [],
   "source": [
    "# TODO with the E. coli afterwards\n",
    "def test_bwt2seq(S):\n",
    "    SA = ks.simple_kark_sort(S)\n",
    "    bwt = build_bwt(S, SA)\n",
    "    count = get_count(bwt)\n",
    "    rank = get_rank(bwt)\n",
    "    restored = bwt2seq(bwt, count, rank)\n",
    "    if (restored != S):\n",
    "        return False\n",
    "    return True"
   ]
  },
  {
   "cell_type": "code",
   "execution_count": 58,
   "metadata": {},
   "outputs": [],
   "source": [
    "def get_occ(bwt):\n",
    "    occ = {}\n",
    "    rank = get_rank(bwt)\n",
    "    for char in (bwt): # to get all letters\n",
    "        if char not in occ:\n",
    "            vect = []\n",
    "            for i in range(len(bwt)):\n",
    "                if (bwt[i] == char):\n",
    "                    current_value = rank[i]\n",
    "                vect.append(current_value)\n",
    "            occ[char] = vect\n",
    "    return occ                    "
   ]
  },
  {
   "cell_type": "code",
   "execution_count": 61,
   "metadata": {},
   "outputs": [
    {
     "name": "stdout",
     "output_type": "stream",
     "text": [
      "GGCGGCACCGC$\n",
      "i\tSA\tSuffix\n",
      "0\t11\t$\n",
      "1\t6\tACCGC$\n",
      "2\t10\tC$\n",
      "3\t5\tCACCGC$\n",
      "4\t7\tCCGC$\n",
      "5\t8\tCGC$\n",
      "6\t2\tCGGCACCGC$\n",
      "7\t9\tGC$\n",
      "8\t4\tGCACCGC$\n",
      "9\t1\tGCGGCACCGC$\n",
      "10\t3\tGGCACCGC$\n",
      "11\t0\tGGCGGCACCGC$\n",
      "bwt =  CCGGACGCGGC$\n",
      "first_col =  $ACCCCCGGGGG\n",
      "count =  {'C': 2, 'G': 7, 'A': 1, '$': 0}\n",
      "rank =  [0, 1, 0, 1, 0, 2, 2, 3, 3, 4, 4, 0]\n",
      "restored =  GGCGGCACCGC$\n",
      "True\n",
      "True\n",
      "True\n",
      "True\n",
      "occ =  {'C': [0, 1, 1, 1, 1, 2, 2, 3, 3, 3, 4, 4], 'G': [4, 4, 0, 1, 1, 1, 2, 2, 3, 4, 4, 4], 'A': [4, 4, 4, 4, 0, 0, 0, 0, 0, 0, 0, 0], '$': [0, 0, 0, 0, 0, 0, 0, 0, 0, 0, 0, 0]}\n"
     ]
    }
   ],
   "source": [
    "S = \"GGCGGCACCGC$\"\n",
    "print(S)\n",
    "SA = ks.simple_kark_sort(S)\n",
    "print(\"i\\tSA\\tSuffix\")\n",
    "for i in range(len(S)):\n",
    "    print(f\"{i}\\t{SA[i]}\\t{S[SA[i]:]}\")\n",
    "bwt = build_bwt(S, SA)\n",
    "print(\"bwt = \", bwt)\n",
    "first_col = ''.join(sorted(bwt))\n",
    "print(\"first_col = \", first_col)\n",
    "count = get_count(bwt)\n",
    "print(\"count = \", count)\n",
    "rank = get_rank(bwt)\n",
    "print(\"rank = \", rank)\n",
    "restored = bwt2seq(bwt, count, rank)\n",
    "print(\"restored = \", restored)\n",
    "testing = [\"GGACTAGGACCTACGGCACCGC$\", \"ACGTTAGGATTGGCGGCACCGC$\", \"GGCCTAGGACCCGGCACCGC$\", \"GGCGGCACCGCCAGGTAGGACCCACCTTC$\"]\n",
    "for test in testing:\n",
    "    print(test_bwt2seq(test))\n",
    "occ = get_occ(bwt)\n",
    "print(\"occ = \", occ)"
   ]
  },
  {
   "cell_type": "code",
   "execution_count": null,
   "metadata": {},
   "outputs": [],
   "source": []
  }
 ],
 "metadata": {
  "kernelspec": {
   "display_name": "Python 3",
   "language": "python",
   "name": "python3"
  },
  "language_info": {
   "codemirror_mode": {
    "name": "ipython",
    "version": 3
   },
   "file_extension": ".py",
   "mimetype": "text/x-python",
   "name": "python",
   "nbconvert_exporter": "python",
   "pygments_lexer": "ipython3",
   "version": "3.7.6"
  }
 },
 "nbformat": 4,
 "nbformat_minor": 4
}
